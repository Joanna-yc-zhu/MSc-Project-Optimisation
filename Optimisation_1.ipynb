# without voltage limit
Objective value: 109422.08888888896
xh[1] = 1.0
xh[2] = 1.0
xh[4] = 1.0
xh[17] = 1.0
xh[18] = 1.0
xh[22] = 1.0
xh[23] = 1.0
xh[24] = 1.0
expectation:599555.5555555555
expectation:316465.33333333593
